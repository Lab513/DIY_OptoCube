{
 "cells": [
  {
   "cell_type": "code",
   "execution_count": null,
   "metadata": {},
   "outputs": [],
   "source": [
    "import serial\n",
    "import time\n",
    "from time import sleep\n",
    "import os"
   ]
  },
  {
   "cell_type": "code",
   "execution_count": null,
   "metadata": {},
   "outputs": [],
   "source": [
    "ser = serial.Serial('COM3', 9600, timeout=1)"
   ]
  },
  {
   "cell_type": "code",
   "execution_count": null,
   "metadata": {},
   "outputs": [],
   "source": [
    "ser.write(b'H') #Turn DMD ON"
   ]
  },
  {
   "cell_type": "code",
   "execution_count": null,
   "metadata": {},
   "outputs": [],
   "source": [
    "ser.write(b'L') #Turn DMD OFF"
   ]
  },
  {
   "cell_type": "code",
   "execution_count": null,
   "metadata": {},
   "outputs": [],
   "source": [
    "ser.write(b'H')"
   ]
  },
  {
   "cell_type": "code",
   "execution_count": null,
   "metadata": {},
   "outputs": [],
   "source": [
    "ser.write(b'L')"
   ]
  },
  {
   "cell_type": "code",
   "execution_count": null,
   "metadata": {},
   "outputs": [],
   "source": [
    "dirInput = \"C:/Desktop/OptoCube/Timelapse1/\" #Directory path where images are saved\n",
    "deltat=60*30 #framerate of the timelapse in VueScan in sec\n",
    "pulselen=59 #in sec\n",
    "pulseperiod=60 #in sec"
   ]
  },
  {
   "cell_type": "code",
   "execution_count": null,
   "metadata": {},
   "outputs": [],
   "source": [
    "ListImage=[f for f in os.listdir(dirInput) if os.path.isfile(os.path.join(dirInput, f))] #import all file in the directory dirInput without subfolder\n",
    "nfile=len(ListImage)\n",
    "endpictime=int(time.time()) #initialise with the time of script run\n",
    "lastpulse=int(time.time()) #initialise with the time of script run\n",
    "imaging=0"
   ]
  },
  {
   "cell_type": "code",
   "execution_count": null,
   "metadata": {},
   "outputs": [],
   "source": [
    "print(\"Loop start at\", time.strftime('%Y/%m/%d  %H:%M:%S', time.gmtime()))\n",
    "print(\"Condition Initial: nfile=\",nfile, \" EndPicTime=\",endpictime,\" lastpulse=\",lastpulse)\n",
    "while (1>0):\n",
    "    nfilenow=len([f for f in os.listdir(dirInput) if os.path.isfile(os.path.join(dirInput, f))])\n",
    "    nowtime=int(time.time())\n",
    "    \n",
    "    if (nfile!=nfilenow): #Detect the end of the scan process to synchronize the next scanning\n",
    "        nfile=nfilenow\n",
    "        imaging=0\n",
    "        print(\"NewImageDone at\", time.strftime('%H:%M:%S', time.gmtime()))\n",
    "        print(\"nfile=\",nfile)\n",
    "        endpictime=nowtime\n",
    "        print(\"End Pic Time=\",endpictime)\n",
    "        sleep(0.5)\n",
    "    \n",
    "    if (nowtime==endpictime+deltat): #Turn OFF the DMD during scanning\n",
    "        print(\"NewImage at\", time.strftime('%H:%M:%S', time.gmtime()))\n",
    "        print(\"nfile=\",nfile)\n",
    "        ser.write(b'L')\n",
    "        imaging=1\n",
    "        nowtime=int(time.time())\n",
    "        sleep(0.5)\n",
    "    \n",
    "    if (nowtime>=lastpulse+pulseperiod)and(imaging==0): #Turn ON the DMD if pulseperiod is \"done\"\n",
    "        lastpulse=nowtime\n",
    "        print(\"NewPulse at\", time.strftime('%H:%M:%S', time.gmtime()))\n",
    "        ser.write(b'H')\n",
    "        print(\"DMD ON\")\n",
    "        sleep(0.5)\n",
    "        \n",
    "    if (nowtime==lastpulse+pulselen): #Turn OFF the DMD if pulselenght is \"done\"\n",
    "        ser.write(b'L')\n",
    "        print(\"DMD OFF\")\n",
    "        print(\"EndPulse at\", time.strftime('%H:%M:%S', time.gmtime()))\n",
    "        sleep(0.5)\n",
    "        \n",
    "    sleep(0.5) #refresh every 0.5sec"
   ]
  },
  {
   "cell_type": "code",
   "execution_count": null,
   "metadata": {},
   "outputs": [],
   "source": []
  },
  {
   "cell_type": "code",
   "execution_count": null,
   "metadata": {},
   "outputs": [],
   "source": []
  }
 ],
 "metadata": {
  "kernelspec": {
   "display_name": "Python 3",
   "language": "python",
   "name": "python3"
  },
  "language_info": {
   "codemirror_mode": {
    "name": "ipython",
    "version": 3
   },
   "file_extension": ".py",
   "mimetype": "text/x-python",
   "name": "python",
   "nbconvert_exporter": "python",
   "pygments_lexer": "ipython3",
   "version": "3.7.0"
  }
 },
 "nbformat": 4,
 "nbformat_minor": 5
}
